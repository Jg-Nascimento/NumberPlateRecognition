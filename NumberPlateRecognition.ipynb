{
  "nbformat": 4,
  "nbformat_minor": 0,
  "metadata": {
    "colab": {
      "name": "NumberPlateRecognition.ipynb",
      "provenance": [],
      "collapsed_sections": [],
      "authorship_tag": "ABX9TyMrw+oBQ4scty1fFVIg/JR1",
      "include_colab_link": true
    },
    "kernelspec": {
      "name": "python3",
      "display_name": "Python 3"
    }
  },
  "cells": [
    {
      "cell_type": "markdown",
      "metadata": {
        "id": "view-in-github",
        "colab_type": "text"
      },
      "source": [
        "<a href=\"https://colab.research.google.com/github/Jg-Nascimento/NumberPlateRecognition/blob/main/NumberPlateRecognition.ipynb\" target=\"_parent\"><img src=\"https://colab.research.google.com/assets/colab-badge.svg\" alt=\"Open In Colab\"/></a>"
      ]
    },
    {
      "cell_type": "markdown",
      "metadata": {
        "id": "KCmpFfcZbpBB"
      },
      "source": [
        "[Automatic License Number Plate Recognition System\r\n",
        "](https://techvidvan.com/tutorials/python-project-license-number-plate-recognition/)"
      ]
    },
    {
      "cell_type": "code",
      "metadata": {
        "id": "LlpUWf20bw54",
        "colab": {
          "base_uri": "https://localhost:8080/",
          "height": 35
        },
        "outputId": "e7e5eddc-debb-41e6-99dd-39618fa842be"
      },
      "source": [
        "'''!pip install opencv-python\n",
        "!pip install pytesseract\n",
        "!pip install pillow'''"
      ],
      "execution_count": 1,
      "outputs": [
        {
          "output_type": "execute_result",
          "data": {
            "application/vnd.google.colaboratory.intrinsic+json": {
              "type": "string"
            },
            "text/plain": [
              "'!pip install opencv-python\\n!pip install pytesseract\\n!pip install pillow'"
            ]
          },
          "metadata": {
            "tags": []
          },
          "execution_count": 1
        }
      ]
    },
    {
      "cell_type": "markdown",
      "metadata": {
        "id": "c452j1SXF5Kl"
      },
      "source": [
        "Importando bibliotecas"
      ]
    },
    {
      "cell_type": "code",
      "metadata": {
        "id": "JU8T2sgIboJg"
      },
      "source": [
        "import numpy as np\n",
        "import cv2\n",
        "from PIL import Image\n",
        "import pytesseract as tess\n",
        "import matplotlib.image as mpimg #\n",
        "from matplotlib.pyplot import imshow\n",
        "%matplotlib inline"
      ],
      "execution_count": 2,
      "outputs": []
    },
    {
      "cell_type": "markdown",
      "metadata": {
        "id": "quFTa_cTF8Sl"
      },
      "source": [
        "função para verificar o alcance da área e a proporção largura-altura"
      ]
    },
    {
      "cell_type": "code",
      "metadata": {
        "id": "FNL-Mz-sF2mF"
      },
      "source": [
        "def ratioCheck(area, width, height):\n",
        "  ratio = float(width) / float(height)\n",
        "  if ratio < 1: \n",
        "    ratio = 1 / ratio\n",
        "  if (area < 1063.62 or area > 73862.5) or (ratio < 3 or ratio > 6):\n",
        "    return False\n",
        "  \n",
        "  return True"
      ],
      "execution_count": 3,
      "outputs": []
    },
    {
      "cell_type": "markdown",
      "metadata": {
        "id": "HK_tPMoJGx4W"
      },
      "source": [
        "função para verificar a média da matriz da imagem"
      ]
    },
    {
      "cell_type": "code",
      "metadata": {
        "id": "a39K1AjxG2lT"
      },
      "source": [
        "def isMaxWhite(plate):\n",
        "  avg = np.mean(plate)\n",
        "  if(avg>=115):\n",
        "    return True\n",
        "  else:\n",
        "    return False"
      ],
      "execution_count": 4,
      "outputs": []
    },
    {
      "cell_type": "markdown",
      "metadata": {
        "id": "55xYVywQHMyM"
      },
      "source": [
        "função para verificar a rotação do contorno"
      ]
    },
    {
      "cell_type": "code",
      "metadata": {
        "id": "KWDJojl8HRTh"
      },
      "source": [
        "def ratio_and_rotation(rect):\n",
        "  (x, y), (width, height), rect_angle = rect\n",
        "  if(width>height):\n",
        "    angle = -rect_angle\n",
        "  else:\n",
        "    angle = 90 + rect_angle\n",
        "  if angle>15:\n",
        "    return False\n",
        "  if height == 0 or width == 0:\n",
        "    return False\n",
        "    area = height*width\n",
        "  if not ratioCheck(area,width,height):\n",
        "    return False\n",
        "  else:\n",
        "    return True"
      ],
      "execution_count": 5,
      "outputs": []
    },
    {
      "cell_type": "markdown",
      "metadata": {
        "id": "2oPefmbYHm23"
      },
      "source": [
        "função para limpar a placa do número identificada para pré-processamento antes de alimentar o pytesseract"
      ]
    },
    {
      "cell_type": "code",
      "metadata": {
        "id": "QVCbC4bMGq2A"
      },
      "source": [
        "def clean2_plate(plate):\n",
        "    gray_img = cv2.cvtColor(plate, cv2.COLOR_BGR2GRAY)\n",
        "\n",
        "    _, thresh = cv2.threshold(gray_img, 110, 255, cv2.THRESH_BINARY)\n",
        "    if cv2.waitKey(0) & 0xff == ord('q'):\n",
        "        pass\n",
        "    num_contours,hierarchy = cv2.findContours(thresh.copy(),\n",
        "                                              cv2.RETR_EXTERNAL, \n",
        "                                              cv2.CHAIN_APPROX_NONE)\n",
        "\n",
        "    if num_contours:\n",
        "      contour_area = [cv2.contourArea(c) for c in num_contours]\n",
        "      max_cntr_index = np.argmax(contour_area)\n",
        "\n",
        "      max_cnt = num_contours[max_cntr_index]\n",
        "      max_cntArea = contour_area[max_cntr_index]\n",
        "      x,y,w,h = cv2.boundingRect(max_cnt)\n",
        "\n",
        "      if not ratioCheck(max_cntArea,w,h):\n",
        "        return plate,None\n",
        "\n",
        "      final_img = thresh[y:y+h, x:x+w]\n",
        "      return final_img,[x,y,w,h]\n",
        "\n",
        "    else:\n",
        "      return plate, None"
      ],
      "execution_count": 6,
      "outputs": []
    },
    {
      "cell_type": "markdown",
      "metadata": {
        "id": "fdpiORw8IK9n"
      },
      "source": [
        "pegue uma entrada de imagem. Faremos Gaussian Blur, Sobel e operações morfológicas. Depois, encontramos os contornos na imagem e percorremos cada contorno para identificar a placa do número. Vamos então limpar o contorno da imagem e alimentá-la para o pytesseract para reconhecer o número e os caracteres"
      ]
    },
    {
      "cell_type": "code",
      "metadata": {
        "colab": {
          "base_uri": "https://localhost:8080/",
          "height": 445
        },
        "id": "3g3xKkCGQ3wl",
        "outputId": "9b1ebd0b-6d38-4974-c6e4-5360d2ca6ca3"
      },
      "source": [
        "#img = cv2.imread(\"placa.png\")\n",
        "img = mpimg.imread('placa')\n",
        "print(\"Number  input image...\",)\n",
        "#cv2.imshow(\"input\",img)\n",
        "mpimg.imread(\"input\", img)\n",
        "\n",
        "if cv2.waitKey(0) & 0xff == ord('q'):\n",
        "    pass\n",
        "img2 = cv2.GaussianBlur(img, (3,3), 0)\n",
        "img2 = cv2.cvtColor(img2, cv2.COLOR_BGR2GRAY)\n",
        "img2 = cv2.Sobel(img2,cv2.CV_8U,1,0,ksize=3)    \n",
        "_,img2 = cv2.threshold(img2,0,255,cv2.THRESH_BINARY+cv2.THRESH_OTSU)\n",
        "element = cv2.getStructuringElement(shape=cv2.MORPH_RECT, ksize=(17, 3))\n",
        "morph_img_threshold = img2.copy()\n",
        "cv2.morphologyEx(src=img2, op=cv2.MORPH_CLOSE, kernel=element, dst=morph_img_threshold)\n",
        "num_contours, hierarchy= cv2.findContours(morph_img_threshold,mode=cv2.RETR_EXTERNAL,method=cv2.CHAIN_APPROX_NONE)\n",
        "cv2.drawContours(img2, num_contours, -1, (0,255,0), 1)\n",
        "\n",
        "for i,cnt in enumerate(num_contours):\n",
        "    min_rect = cv2.minAreaRect(cnt)\n",
        "\n",
        "    if ratio_and_rotation(min_rect):\n",
        "        x,y,w,h = cv2.boundingRect(cnt)\n",
        "        plate_img = img[y:y+h,x:x+w]\n",
        "        print(\"Number  identified number plate...\")\n",
        "        cv2.imshow(\"num plate image\",plate_img)\n",
        "\n",
        "        if cv2.waitKey(0) & 0xff == ord('q'):\n",
        "            pass\n",
        "\n",
        "        if (isMaxWhite(plate_img)):\n",
        "            clean_plate, rect = clean2_plate(plate_img)\n",
        "            \n",
        "            if rect:\n",
        "                fg=0\n",
        "                x1,y1,w1,h1 = rect\n",
        "                x,y,w,h = x+x1,y+y1,w1,h1\n",
        "                # cv2.imwrite(\"clena.png\",clean_plate)\n",
        "                plate_im = Image.fromarray(clean_plate)\n",
        "                text = tess.image_to_string(plate_im, lang='eng')\n",
        "                print(\"Number  Detected Plate Text : \",text)"
      ],
      "execution_count": 9,
      "outputs": [
        {
          "output_type": "stream",
          "text": [
            "Number  input image...\n"
          ],
          "name": "stdout"
        },
        {
          "output_type": "stream",
          "text": [
            "/usr/local/lib/python3.6/dist-packages/matplotlib/image.py:1458: FutureWarning: elementwise comparison failed; returning scalar instead, but in the future will perform elementwise comparison\n",
            "  if ext != 'png':\n"
          ],
          "name": "stderr"
        },
        {
          "output_type": "error",
          "ename": "FileNotFoundError",
          "evalue": "ignored",
          "traceback": [
            "\u001b[0;31m---------------------------------------------------------------------------\u001b[0m",
            "\u001b[0;31mFileNotFoundError\u001b[0m                         Traceback (most recent call last)",
            "\u001b[0;32m<ipython-input-9-73fb52998165>\u001b[0m in \u001b[0;36m<module>\u001b[0;34m()\u001b[0m\n\u001b[1;32m      3\u001b[0m \u001b[0mprint\u001b[0m\u001b[0;34m(\u001b[0m\u001b[0;34m\"Number  input image...\"\u001b[0m\u001b[0;34m,\u001b[0m\u001b[0;34m)\u001b[0m\u001b[0;34m\u001b[0m\u001b[0;34m\u001b[0m\u001b[0m\n\u001b[1;32m      4\u001b[0m \u001b[0;31m#cv2.imshow(\"input\",img)\u001b[0m\u001b[0;34m\u001b[0m\u001b[0;34m\u001b[0m\u001b[0;34m\u001b[0m\u001b[0m\n\u001b[0;32m----> 5\u001b[0;31m \u001b[0mmpimg\u001b[0m\u001b[0;34m.\u001b[0m\u001b[0mimread\u001b[0m\u001b[0;34m(\u001b[0m\u001b[0;34m\"input\"\u001b[0m\u001b[0;34m,\u001b[0m \u001b[0mimg\u001b[0m\u001b[0;34m)\u001b[0m\u001b[0;34m\u001b[0m\u001b[0;34m\u001b[0m\u001b[0m\n\u001b[0m\u001b[1;32m      6\u001b[0m \u001b[0;32mif\u001b[0m \u001b[0mcv2\u001b[0m\u001b[0;34m.\u001b[0m\u001b[0mwaitKey\u001b[0m\u001b[0;34m(\u001b[0m\u001b[0;36m0\u001b[0m\u001b[0;34m)\u001b[0m \u001b[0;34m&\u001b[0m \u001b[0;36m0xff\u001b[0m \u001b[0;34m==\u001b[0m \u001b[0mord\u001b[0m\u001b[0;34m(\u001b[0m\u001b[0;34m'q'\u001b[0m\u001b[0;34m)\u001b[0m\u001b[0;34m:\u001b[0m\u001b[0;34m\u001b[0m\u001b[0;34m\u001b[0m\u001b[0m\n\u001b[1;32m      7\u001b[0m     \u001b[0;32mpass\u001b[0m\u001b[0;34m\u001b[0m\u001b[0;34m\u001b[0m\u001b[0m\n",
            "\u001b[0;32m/usr/local/lib/python3.6/dist-packages/matplotlib/image.py\u001b[0m in \u001b[0;36mimread\u001b[0;34m(fname, format)\u001b[0m\n\u001b[1;32m   1462\u001b[0m             raise ValueError('Only know how to handle PNG; with Pillow '\n\u001b[1;32m   1463\u001b[0m                              'installed, Matplotlib can handle more images')\n\u001b[0;32m-> 1464\u001b[0;31m         \u001b[0;32mwith\u001b[0m \u001b[0mImage\u001b[0m\u001b[0;34m.\u001b[0m\u001b[0mopen\u001b[0m\u001b[0;34m(\u001b[0m\u001b[0mfname\u001b[0m\u001b[0;34m)\u001b[0m \u001b[0;32mas\u001b[0m \u001b[0mimage\u001b[0m\u001b[0;34m:\u001b[0m\u001b[0;34m\u001b[0m\u001b[0;34m\u001b[0m\u001b[0m\n\u001b[0m\u001b[1;32m   1465\u001b[0m             \u001b[0;32mreturn\u001b[0m \u001b[0mpil_to_array\u001b[0m\u001b[0;34m(\u001b[0m\u001b[0mimage\u001b[0m\u001b[0;34m)\u001b[0m\u001b[0;34m\u001b[0m\u001b[0;34m\u001b[0m\u001b[0m\n\u001b[1;32m   1466\u001b[0m     \u001b[0;32mfrom\u001b[0m \u001b[0mmatplotlib\u001b[0m \u001b[0;32mimport\u001b[0m \u001b[0m_png\u001b[0m\u001b[0;34m\u001b[0m\u001b[0;34m\u001b[0m\u001b[0m\n",
            "\u001b[0;32m/usr/local/lib/python3.6/dist-packages/PIL/Image.py\u001b[0m in \u001b[0;36mopen\u001b[0;34m(fp, mode)\u001b[0m\n\u001b[1;32m   2807\u001b[0m \u001b[0;34m\u001b[0m\u001b[0m\n\u001b[1;32m   2808\u001b[0m     \u001b[0;32mif\u001b[0m \u001b[0mfilename\u001b[0m\u001b[0;34m:\u001b[0m\u001b[0;34m\u001b[0m\u001b[0;34m\u001b[0m\u001b[0m\n\u001b[0;32m-> 2809\u001b[0;31m         \u001b[0mfp\u001b[0m \u001b[0;34m=\u001b[0m \u001b[0mbuiltins\u001b[0m\u001b[0;34m.\u001b[0m\u001b[0mopen\u001b[0m\u001b[0;34m(\u001b[0m\u001b[0mfilename\u001b[0m\u001b[0;34m,\u001b[0m \u001b[0;34m\"rb\"\u001b[0m\u001b[0;34m)\u001b[0m\u001b[0;34m\u001b[0m\u001b[0;34m\u001b[0m\u001b[0m\n\u001b[0m\u001b[1;32m   2810\u001b[0m         \u001b[0mexclusive_fp\u001b[0m \u001b[0;34m=\u001b[0m \u001b[0;32mTrue\u001b[0m\u001b[0;34m\u001b[0m\u001b[0;34m\u001b[0m\u001b[0m\n\u001b[1;32m   2811\u001b[0m \u001b[0;34m\u001b[0m\u001b[0m\n",
            "\u001b[0;31mFileNotFoundError\u001b[0m: [Errno 2] No such file or directory: 'input'"
          ]
        }
      ]
    }
  ]
}